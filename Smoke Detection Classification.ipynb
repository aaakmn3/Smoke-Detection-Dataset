{
 "cells": [
  {
   "cell_type": "code",
   "execution_count": 1,
   "metadata": {
    "_cell_guid": "b1076dfc-b9ad-4769-8c92-a6c4dae69d19",
    "_uuid": "8f2839f25d086af736a60e9eeb907d3b93b6e0e5",
    "execution": {
     "iopub.execute_input": "2022-09-15T05:59:51.942076Z",
     "iopub.status.busy": "2022-09-15T05:59:51.941649Z",
     "iopub.status.idle": "2022-09-15T05:59:51.958456Z",
     "shell.execute_reply": "2022-09-15T05:59:51.957481Z",
     "shell.execute_reply.started": "2022-09-15T05:59:51.942042Z"
    }
   },
   "outputs": [],
   "source": [
    "import numpy as np \n",
    "import pandas as pd"
   ]
  },
  {
   "cell_type": "code",
   "execution_count": 2,
   "metadata": {
    "execution": {
     "iopub.execute_input": "2022-09-15T05:59:51.961025Z",
     "iopub.status.busy": "2022-09-15T05:59:51.960352Z",
     "iopub.status.idle": "2022-09-15T05:59:51.97165Z",
     "shell.execute_reply": "2022-09-15T05:59:51.970369Z",
     "shell.execute_reply.started": "2022-09-15T05:59:51.96099Z"
    }
   },
   "outputs": [],
   "source": [
    "from sklearn.ensemble import RandomForestClassifier\n",
    "from sklearn.tree import DecisionTreeClassifier \n",
    "from sklearn.model_selection import train_test_split\n",
    "from sklearn.metrics import confusion_matrix\n",
    "from sklearn.preprocessing import LabelEncoder,MinMaxScaler , StandardScaler\n",
    "\n",
    "import matplotlib\n",
    "import matplotlib.pyplot as plt\n",
    "import seaborn as sns\n",
    "sns.set(color_codes = True)\n",
    "%matplotlib inline\n",
    "\n",
    "from sklearn.impute import SimpleImputer\n",
    "from sklearn.model_selection import GridSearchCV\n",
    "from sklearn.pipeline import Pipeline\n",
    "from sklearn.compose import ColumnTransformer"
   ]
  },
  {
   "cell_type": "markdown",
   "metadata": {},
   "source": [
    "# 1. Load And Explore Data(EDA)"
   ]
  },
  {
   "cell_type": "code",
   "execution_count": 3,
   "metadata": {
    "collapsed": true,
    "execution": {
     "iopub.execute_input": "2022-09-15T05:59:51.998517Z",
     "iopub.status.busy": "2022-09-15T05:59:51.997559Z",
     "iopub.status.idle": "2022-09-15T05:59:52.121403Z",
     "shell.execute_reply": "2022-09-15T05:59:52.120013Z",
     "shell.execute_reply.started": "2022-09-15T05:59:51.998472Z"
    }
   },
   "outputs": [
    {
     "data": {
      "text/html": [
       "<div>\n",
       "<style scoped>\n",
       "    .dataframe tbody tr th:only-of-type {\n",
       "        vertical-align: middle;\n",
       "    }\n",
       "\n",
       "    .dataframe tbody tr th {\n",
       "        vertical-align: top;\n",
       "    }\n",
       "\n",
       "    .dataframe thead th {\n",
       "        text-align: right;\n",
       "    }\n",
       "</style>\n",
       "<table border=\"1\" class=\"dataframe\">\n",
       "  <thead>\n",
       "    <tr style=\"text-align: right;\">\n",
       "      <th></th>\n",
       "      <th>Unnamed: 0</th>\n",
       "      <th>UTC</th>\n",
       "      <th>Temperature[C]</th>\n",
       "      <th>Humidity[%]</th>\n",
       "      <th>TVOC[ppb]</th>\n",
       "      <th>eCO2[ppm]</th>\n",
       "      <th>Raw H2</th>\n",
       "      <th>Raw Ethanol</th>\n",
       "      <th>Pressure[hPa]</th>\n",
       "      <th>PM1.0</th>\n",
       "      <th>PM2.5</th>\n",
       "      <th>NC0.5</th>\n",
       "      <th>NC1.0</th>\n",
       "      <th>NC2.5</th>\n",
       "      <th>CNT</th>\n",
       "      <th>Fire Alarm</th>\n",
       "    </tr>\n",
       "  </thead>\n",
       "  <tbody>\n",
       "    <tr>\n",
       "      <th>0</th>\n",
       "      <td>0</td>\n",
       "      <td>1654733331</td>\n",
       "      <td>20.000</td>\n",
       "      <td>57.36</td>\n",
       "      <td>0</td>\n",
       "      <td>400</td>\n",
       "      <td>12306</td>\n",
       "      <td>18520</td>\n",
       "      <td>939.735</td>\n",
       "      <td>0.00</td>\n",
       "      <td>0.00</td>\n",
       "      <td>0.00</td>\n",
       "      <td>0.000</td>\n",
       "      <td>0.000</td>\n",
       "      <td>0</td>\n",
       "      <td>0</td>\n",
       "    </tr>\n",
       "    <tr>\n",
       "      <th>1</th>\n",
       "      <td>1</td>\n",
       "      <td>1654733332</td>\n",
       "      <td>20.015</td>\n",
       "      <td>56.67</td>\n",
       "      <td>0</td>\n",
       "      <td>400</td>\n",
       "      <td>12345</td>\n",
       "      <td>18651</td>\n",
       "      <td>939.744</td>\n",
       "      <td>0.00</td>\n",
       "      <td>0.00</td>\n",
       "      <td>0.00</td>\n",
       "      <td>0.000</td>\n",
       "      <td>0.000</td>\n",
       "      <td>1</td>\n",
       "      <td>0</td>\n",
       "    </tr>\n",
       "    <tr>\n",
       "      <th>2</th>\n",
       "      <td>2</td>\n",
       "      <td>1654733333</td>\n",
       "      <td>20.029</td>\n",
       "      <td>55.96</td>\n",
       "      <td>0</td>\n",
       "      <td>400</td>\n",
       "      <td>12374</td>\n",
       "      <td>18764</td>\n",
       "      <td>939.738</td>\n",
       "      <td>0.00</td>\n",
       "      <td>0.00</td>\n",
       "      <td>0.00</td>\n",
       "      <td>0.000</td>\n",
       "      <td>0.000</td>\n",
       "      <td>2</td>\n",
       "      <td>0</td>\n",
       "    </tr>\n",
       "    <tr>\n",
       "      <th>3</th>\n",
       "      <td>3</td>\n",
       "      <td>1654733334</td>\n",
       "      <td>20.044</td>\n",
       "      <td>55.28</td>\n",
       "      <td>0</td>\n",
       "      <td>400</td>\n",
       "      <td>12390</td>\n",
       "      <td>18849</td>\n",
       "      <td>939.736</td>\n",
       "      <td>0.00</td>\n",
       "      <td>0.00</td>\n",
       "      <td>0.00</td>\n",
       "      <td>0.000</td>\n",
       "      <td>0.000</td>\n",
       "      <td>3</td>\n",
       "      <td>0</td>\n",
       "    </tr>\n",
       "    <tr>\n",
       "      <th>4</th>\n",
       "      <td>4</td>\n",
       "      <td>1654733335</td>\n",
       "      <td>20.059</td>\n",
       "      <td>54.69</td>\n",
       "      <td>0</td>\n",
       "      <td>400</td>\n",
       "      <td>12403</td>\n",
       "      <td>18921</td>\n",
       "      <td>939.744</td>\n",
       "      <td>0.00</td>\n",
       "      <td>0.00</td>\n",
       "      <td>0.00</td>\n",
       "      <td>0.000</td>\n",
       "      <td>0.000</td>\n",
       "      <td>4</td>\n",
       "      <td>0</td>\n",
       "    </tr>\n",
       "    <tr>\n",
       "      <th>...</th>\n",
       "      <td>...</td>\n",
       "      <td>...</td>\n",
       "      <td>...</td>\n",
       "      <td>...</td>\n",
       "      <td>...</td>\n",
       "      <td>...</td>\n",
       "      <td>...</td>\n",
       "      <td>...</td>\n",
       "      <td>...</td>\n",
       "      <td>...</td>\n",
       "      <td>...</td>\n",
       "      <td>...</td>\n",
       "      <td>...</td>\n",
       "      <td>...</td>\n",
       "      <td>...</td>\n",
       "      <td>...</td>\n",
       "    </tr>\n",
       "    <tr>\n",
       "      <th>62625</th>\n",
       "      <td>62625</td>\n",
       "      <td>1655130047</td>\n",
       "      <td>18.438</td>\n",
       "      <td>15.79</td>\n",
       "      <td>625</td>\n",
       "      <td>400</td>\n",
       "      <td>13723</td>\n",
       "      <td>20569</td>\n",
       "      <td>936.670</td>\n",
       "      <td>0.63</td>\n",
       "      <td>0.65</td>\n",
       "      <td>4.32</td>\n",
       "      <td>0.673</td>\n",
       "      <td>0.015</td>\n",
       "      <td>5739</td>\n",
       "      <td>0</td>\n",
       "    </tr>\n",
       "    <tr>\n",
       "      <th>62626</th>\n",
       "      <td>62626</td>\n",
       "      <td>1655130048</td>\n",
       "      <td>18.653</td>\n",
       "      <td>15.87</td>\n",
       "      <td>612</td>\n",
       "      <td>400</td>\n",
       "      <td>13731</td>\n",
       "      <td>20588</td>\n",
       "      <td>936.678</td>\n",
       "      <td>0.61</td>\n",
       "      <td>0.63</td>\n",
       "      <td>4.18</td>\n",
       "      <td>0.652</td>\n",
       "      <td>0.015</td>\n",
       "      <td>5740</td>\n",
       "      <td>0</td>\n",
       "    </tr>\n",
       "    <tr>\n",
       "      <th>62627</th>\n",
       "      <td>62627</td>\n",
       "      <td>1655130049</td>\n",
       "      <td>18.867</td>\n",
       "      <td>15.84</td>\n",
       "      <td>627</td>\n",
       "      <td>400</td>\n",
       "      <td>13725</td>\n",
       "      <td>20582</td>\n",
       "      <td>936.687</td>\n",
       "      <td>0.57</td>\n",
       "      <td>0.60</td>\n",
       "      <td>3.95</td>\n",
       "      <td>0.617</td>\n",
       "      <td>0.014</td>\n",
       "      <td>5741</td>\n",
       "      <td>0</td>\n",
       "    </tr>\n",
       "    <tr>\n",
       "      <th>62628</th>\n",
       "      <td>62628</td>\n",
       "      <td>1655130050</td>\n",
       "      <td>19.083</td>\n",
       "      <td>16.04</td>\n",
       "      <td>638</td>\n",
       "      <td>400</td>\n",
       "      <td>13712</td>\n",
       "      <td>20566</td>\n",
       "      <td>936.680</td>\n",
       "      <td>0.57</td>\n",
       "      <td>0.59</td>\n",
       "      <td>3.92</td>\n",
       "      <td>0.611</td>\n",
       "      <td>0.014</td>\n",
       "      <td>5742</td>\n",
       "      <td>0</td>\n",
       "    </tr>\n",
       "    <tr>\n",
       "      <th>62629</th>\n",
       "      <td>62629</td>\n",
       "      <td>1655130051</td>\n",
       "      <td>19.299</td>\n",
       "      <td>16.52</td>\n",
       "      <td>643</td>\n",
       "      <td>400</td>\n",
       "      <td>13696</td>\n",
       "      <td>20543</td>\n",
       "      <td>936.676</td>\n",
       "      <td>0.57</td>\n",
       "      <td>0.59</td>\n",
       "      <td>3.90</td>\n",
       "      <td>0.607</td>\n",
       "      <td>0.014</td>\n",
       "      <td>5743</td>\n",
       "      <td>0</td>\n",
       "    </tr>\n",
       "  </tbody>\n",
       "</table>\n",
       "<p>62630 rows × 16 columns</p>\n",
       "</div>"
      ],
      "text/plain": [
       "       Unnamed: 0         UTC  Temperature[C]  Humidity[%]  TVOC[ppb]  \\\n",
       "0               0  1654733331          20.000        57.36          0   \n",
       "1               1  1654733332          20.015        56.67          0   \n",
       "2               2  1654733333          20.029        55.96          0   \n",
       "3               3  1654733334          20.044        55.28          0   \n",
       "4               4  1654733335          20.059        54.69          0   \n",
       "...           ...         ...             ...          ...        ...   \n",
       "62625       62625  1655130047          18.438        15.79        625   \n",
       "62626       62626  1655130048          18.653        15.87        612   \n",
       "62627       62627  1655130049          18.867        15.84        627   \n",
       "62628       62628  1655130050          19.083        16.04        638   \n",
       "62629       62629  1655130051          19.299        16.52        643   \n",
       "\n",
       "       eCO2[ppm]  Raw H2  Raw Ethanol  Pressure[hPa]  PM1.0  PM2.5  NC0.5  \\\n",
       "0            400   12306        18520        939.735   0.00   0.00   0.00   \n",
       "1            400   12345        18651        939.744   0.00   0.00   0.00   \n",
       "2            400   12374        18764        939.738   0.00   0.00   0.00   \n",
       "3            400   12390        18849        939.736   0.00   0.00   0.00   \n",
       "4            400   12403        18921        939.744   0.00   0.00   0.00   \n",
       "...          ...     ...          ...            ...    ...    ...    ...   \n",
       "62625        400   13723        20569        936.670   0.63   0.65   4.32   \n",
       "62626        400   13731        20588        936.678   0.61   0.63   4.18   \n",
       "62627        400   13725        20582        936.687   0.57   0.60   3.95   \n",
       "62628        400   13712        20566        936.680   0.57   0.59   3.92   \n",
       "62629        400   13696        20543        936.676   0.57   0.59   3.90   \n",
       "\n",
       "       NC1.0  NC2.5   CNT  Fire Alarm  \n",
       "0      0.000  0.000     0           0  \n",
       "1      0.000  0.000     1           0  \n",
       "2      0.000  0.000     2           0  \n",
       "3      0.000  0.000     3           0  \n",
       "4      0.000  0.000     4           0  \n",
       "...      ...    ...   ...         ...  \n",
       "62625  0.673  0.015  5739           0  \n",
       "62626  0.652  0.015  5740           0  \n",
       "62627  0.617  0.014  5741           0  \n",
       "62628  0.611  0.014  5742           0  \n",
       "62629  0.607  0.014  5743           0  \n",
       "\n",
       "[62630 rows x 16 columns]"
      ]
     },
     "execution_count": 3,
     "metadata": {},
     "output_type": "execute_result"
    }
   ],
   "source": [
    "df = pd.read_csv(\"smoke.csv\")\n",
    "df"
   ]
  },
  {
   "cell_type": "markdown",
   "metadata": {},
   "source": [
    "### 1.1. Checking for basic Statistics and info for Data Frame"
   ]
  },
  {
   "cell_type": "code",
   "execution_count": 4,
   "metadata": {
    "collapsed": true,
    "execution": {
     "iopub.execute_input": "2022-09-15T05:59:52.124376Z",
     "iopub.status.busy": "2022-09-15T05:59:52.123862Z",
     "iopub.status.idle": "2022-09-15T05:59:52.215288Z",
     "shell.execute_reply": "2022-09-15T05:59:52.213894Z",
     "shell.execute_reply.started": "2022-09-15T05:59:52.124329Z"
    }
   },
   "outputs": [
    {
     "name": "stdout",
     "output_type": "stream",
     "text": [
      "         Unnamed: 0           UTC  Temperature[C]   Humidity[%]     TVOC[ppb]  \\\n",
      "count  62630.000000  6.263000e+04    62630.000000  62630.000000  62630.000000   \n",
      "mean   31314.500000  1.654792e+09       15.970424     48.539499   1942.057528   \n",
      "std    18079.868017  1.100025e+05       14.359576      8.865367   7811.589055   \n",
      "min        0.000000  1.654712e+09      -22.010000     10.740000      0.000000   \n",
      "25%    15657.250000  1.654743e+09       10.994250     47.530000    130.000000   \n",
      "50%    31314.500000  1.654762e+09       20.130000     50.150000    981.000000   \n",
      "75%    46971.750000  1.654778e+09       25.409500     53.240000   1189.000000   \n",
      "max    62629.000000  1.655130e+09       59.930000     75.200000  60000.000000   \n",
      "\n",
      "          eCO2[ppm]        Raw H2   Raw Ethanol  Pressure[hPa]         PM1.0  \\\n",
      "count  62630.000000  62630.000000  62630.000000   62630.000000  62630.000000   \n",
      "mean     670.021044  12942.453936  19754.257912     938.627649    100.594309   \n",
      "std     1905.885439    272.464305    609.513156       1.331344    922.524245   \n",
      "min      400.000000  10668.000000  15317.000000     930.852000      0.000000   \n",
      "25%      400.000000  12830.000000  19435.000000     938.700000      1.280000   \n",
      "50%      400.000000  12924.000000  19501.000000     938.816000      1.810000   \n",
      "75%      438.000000  13109.000000  20078.000000     939.418000      2.090000   \n",
      "max    60000.000000  13803.000000  21410.000000     939.861000  14333.690000   \n",
      "\n",
      "              PM2.5         NC0.5         NC1.0         NC2.5           CNT  \\\n",
      "count  62630.000000  62630.000000  62630.000000  62630.000000  62630.000000   \n",
      "mean     184.467770    491.463608    203.586487     80.049042  10511.386157   \n",
      "std     1976.305615   4265.661251   2214.738556   1083.383189   7597.870997   \n",
      "min        0.000000      0.000000      0.000000      0.000000      0.000000   \n",
      "25%        1.340000      8.820000      1.384000      0.033000   3625.250000   \n",
      "50%        1.880000     12.450000      1.943000      0.044000   9336.000000   \n",
      "75%        2.180000     14.420000      2.249000      0.051000  17164.750000   \n",
      "max    45432.260000  61482.030000  51914.680000  30026.438000  24993.000000   \n",
      "\n",
      "         Fire Alarm  \n",
      "count  62630.000000  \n",
      "mean       0.714626  \n",
      "std        0.451596  \n",
      "min        0.000000  \n",
      "25%        0.000000  \n",
      "50%        1.000000  \n",
      "75%        1.000000  \n",
      "max        1.000000  \n",
      "<class 'pandas.core.frame.DataFrame'>\n",
      "RangeIndex: 62630 entries, 0 to 62629\n",
      "Data columns (total 16 columns):\n",
      " #   Column          Non-Null Count  Dtype  \n",
      "---  ------          --------------  -----  \n",
      " 0   Unnamed: 0      62630 non-null  int64  \n",
      " 1   UTC             62630 non-null  int64  \n",
      " 2   Temperature[C]  62630 non-null  float64\n",
      " 3   Humidity[%]     62630 non-null  float64\n",
      " 4   TVOC[ppb]       62630 non-null  int64  \n",
      " 5   eCO2[ppm]       62630 non-null  int64  \n",
      " 6   Raw H2          62630 non-null  int64  \n",
      " 7   Raw Ethanol     62630 non-null  int64  \n",
      " 8   Pressure[hPa]   62630 non-null  float64\n",
      " 9   PM1.0           62630 non-null  float64\n",
      " 10  PM2.5           62630 non-null  float64\n",
      " 11  NC0.5           62630 non-null  float64\n",
      " 12  NC1.0           62630 non-null  float64\n",
      " 13  NC2.5           62630 non-null  float64\n",
      " 14  CNT             62630 non-null  int64  \n",
      " 15  Fire Alarm      62630 non-null  int64  \n",
      "dtypes: float64(8), int64(8)\n",
      "memory usage: 7.6 MB\n",
      "None\n",
      "Unnamed: 0        0\n",
      "UTC               0\n",
      "Temperature[C]    0\n",
      "Humidity[%]       0\n",
      "TVOC[ppb]         0\n",
      "eCO2[ppm]         0\n",
      "Raw H2            0\n",
      "Raw Ethanol       0\n",
      "Pressure[hPa]     0\n",
      "PM1.0             0\n",
      "PM2.5             0\n",
      "NC0.5             0\n",
      "NC1.0             0\n",
      "NC2.5             0\n",
      "CNT               0\n",
      "Fire Alarm        0\n",
      "dtype: int64\n"
     ]
    }
   ],
   "source": [
    "df.describe\n",
    "df.info()\n",
    "df.isna().sum()"
   ]
  },
  {
   "cell_type": "markdown",
   "metadata": {},
   "source": [
    "### 1.2. Building Histogram to check the Data Behaviour"
   ]
  },
  {
   "cell_type": "code",
   "execution_count": 5,
   "metadata": {
    "execution": {
     "iopub.execute_input": "2022-09-15T05:59:52.217418Z",
     "iopub.status.busy": "2022-09-15T05:59:52.21704Z",
     "iopub.status.idle": "2022-09-15T05:59:55.983895Z",
     "shell.execute_reply": "2022-09-15T05:59:55.982794Z",
     "shell.execute_reply.started": "2022-09-15T05:59:52.217385Z"
    }
   },
   "outputs": [
    {
     "data": {
      "image/png": "[encoded data removed]",
      "text/plain": [
       "<Figure size 1440x1080 with 16 Axes>"
      ]
     },
     "metadata": {
      "needs_background": "light"
     },
     "output_type": "display_data"
    }
   ],
   "source": [
    "%matplotlib inline\n",
    "import matplotlib.pyplot as plt\n",
    "df.hist(bins=50, figsize=(20,15))\n",
    "plt.show()"
   ]
  },
  {
   "cell_type": "markdown",
   "metadata": {},
   "source": [
    "### 1.3. Performing Train Test Split"
   ]
  },
  {
   "cell_type": "code",
   "execution_count": 6,
   "metadata": {
    "execution": {
     "iopub.execute_input": "2022-09-15T05:59:55.987582Z",
     "iopub.status.busy": "2022-09-15T05:59:55.987208Z",
     "iopub.status.idle": "2022-09-15T05:59:56.010421Z",
     "shell.execute_reply": "2022-09-15T05:59:56.009217Z",
     "shell.execute_reply.started": "2022-09-15T05:59:55.987548Z"
    }
   },
   "outputs": [
    {
     "name": "stdout",
     "output_type": "stream",
     "text": [
      "x_train data is (50104, 15)\n",
      "y_train data is (50104,)\n",
      "x_test data is (12526, 15)\n",
      "y_test data is (12526,)\n"
     ]
    }
   ],
   "source": [
    "features = df.drop(\"Fire Alarm\", axis =1)\n",
    "from sklearn.model_selection import train_test_split\n",
    "x_train, x_test, y_train, y_test = train_test_split(features,df[\"Fire Alarm\"],test_size=0.20,random_state=10)\n",
    "print(f\"x_train data is {x_train.shape}\")\n",
    "print(f\"y_train data is {y_train.shape}\")\n",
    "print(f\"x_test data is {x_test.shape}\")\n",
    "print(f\"y_test data is {y_test.shape}\")"
   ]
  },
  {
   "cell_type": "code",
   "execution_count": 7,
   "metadata": {
    "collapsed": true,
    "execution": {
     "iopub.execute_input": "2022-09-15T05:59:56.012004Z",
     "iopub.status.busy": "2022-09-15T05:59:56.011621Z",
     "iopub.status.idle": "2022-09-15T05:59:56.032306Z",
     "shell.execute_reply": "2022-09-15T05:59:56.031037Z",
     "shell.execute_reply.started": "2022-09-15T05:59:56.011962Z"
    }
   },
   "outputs": [
    {
     "name": "stdout",
     "output_type": "stream",
     "text": [
      "       Unnamed: 0         UTC  Temperature[C]  Humidity[%]  TVOC[ppb]  \\\n",
      "38607       38607  1654774956          24.550        53.03       1092   \n",
      "34717       34717  1654771066          21.640        59.19        778   \n",
      "54397       54397  1654715442          25.860        48.97        205   \n",
      "36520       36520  1654772869          25.910        52.05        977   \n",
      "44808       44808  1654781157          26.800        48.39       1126   \n",
      "...           ...         ...             ...          ...        ...   \n",
      "28017       28017  1654764366          21.160        45.48        174   \n",
      "50496       50496  1654903513          39.050        15.01       1207   \n",
      "29199       29199  1654765548          21.570        52.60         69   \n",
      "40061       40061  1654776410          26.540        49.42       1061   \n",
      "17673       17673  1654751004          16.881        48.88       1258   \n",
      "\n",
      "       eCO2[ppm]  Raw H2  Raw Ethanol  Pressure[hPa]  PM1.0  PM2.5  NC0.5  \\\n",
      "38607        507   12845        19452        938.886   1.78   1.85  12.28   \n",
      "34717        915   12667        19539        939.153   2.58   2.68  17.78   \n",
      "54397        424   12767        20524        937.368   1.82   1.89  12.53   \n",
      "36520        591   12827        19482        939.078   2.00   2.08  13.78   \n",
      "44808        400   12934        19447        938.703   1.80   1.87  12.40   \n",
      "...          ...     ...          ...            ...    ...    ...    ...   \n",
      "28017        400   13152        20002        939.673   0.88   0.92   6.08   \n",
      "50496      15930   11708        19284        930.892   1.25   1.30   8.61   \n",
      "29199        400   13257        20140        939.639   2.18   2.27  15.02   \n",
      "40061        426   12874        19457        938.822   2.02   2.10  13.88   \n",
      "17673        424   12890        19420        938.705   1.55   1.61  10.66   \n",
      "\n",
      "       NC1.0  NC2.5    CNT  \n",
      "38607  1.914  0.043  13613  \n",
      "34717  2.772  0.063   9723  \n",
      "54397  1.954  0.044   3255  \n",
      "36520  2.149  0.049  11526  \n",
      "44808  1.933  0.044  19814  \n",
      "...      ...    ...    ...  \n",
      "28017  0.948  0.021   3023  \n",
      "50496  1.343  0.030    508  \n",
      "29199  2.342  0.053   4205  \n",
      "40061  2.165  0.049  15067  \n",
      "17673  1.663  0.038  17673  \n",
      "\n",
      "[50104 rows x 15 columns]\n"
     ]
    },
    {
     "data": {
      "text/plain": [
       "38607    1\n",
       "34717    1\n",
       "54397    0\n",
       "36520    1\n",
       "44808    1\n",
       "        ..\n",
       "28017    0\n",
       "50496    1\n",
       "29199    1\n",
       "40061    1\n",
       "17673    1\n",
       "Name: Fire Alarm, Length: 50104, dtype: int64"
      ]
     },
     "execution_count": 7,
     "metadata": {},
     "output_type": "execute_result"
    }
   ],
   "source": [
    "print(x_train)\n",
    "y_train"
   ]
  },
  {
   "cell_type": "code",
   "execution_count": 8,
   "metadata": {
    "execution": {
     "iopub.execute_input": "2022-09-15T05:59:56.034347Z",
     "iopub.status.busy": "2022-09-15T05:59:56.033883Z",
     "iopub.status.idle": "2022-09-15T05:59:56.040762Z",
     "shell.execute_reply": "2022-09-15T05:59:56.039743Z",
     "shell.execute_reply.started": "2022-09-15T05:59:56.034303Z"
    }
   },
   "outputs": [],
   "source": [
    "df_train_copy = x_train.copy()"
   ]
  },
  {
   "cell_type": "markdown",
   "metadata": {},
   "source": [
    "### 1.4. Checking for Correlation for training set"
   ]
  },
  {
   "cell_type": "code",
   "execution_count": 9,
   "metadata": {
    "collapsed": true,
    "execution": {
     "iopub.execute_input": "2022-09-15T05:59:56.042363Z",
     "iopub.status.busy": "2022-09-15T05:59:56.042033Z",
     "iopub.status.idle": "2022-09-15T05:59:57.950908Z",
     "shell.execute_reply": "2022-09-15T05:59:57.949753Z",
     "shell.execute_reply.started": "2022-09-15T05:59:56.042327Z"
    }
   },
   "outputs": [
    {
     "data": {
      "text/plain": [
       "<AxesSubplot:>"
      ]
     },
     "execution_count": 9,
     "metadata": {},
     "output_type": "execute_result"
    },
    {
     "data": {
      "image/png": "[encoded data removed]",
      "text/plain": [
       "<Figure size 1152x576 with 2 Axes>"
      ]
     },
     "metadata": {
      "needs_background": "light"
     },
     "output_type": "display_data"
    }
   ],
   "source": [
    "# Explore data visually\n",
    "# Build Correlation Matrix to\n",
    "correlation = df_train_copy.corr()\n",
    "#print(correlation)\n",
    "\n",
    "fig , ax = plt.subplots()\n",
    "fig.set_figwidth(16)\n",
    "fig.set_figheight(8)\n",
    "sns.heatmap(correlation,annot=True,cmap=\"YlGnBu\")"
   ]
  },
  {
   "cell_type": "markdown",
   "metadata": {},
   "source": [
    "# 2. Data Preprocessing"
   ]
  },
  {
   "cell_type": "markdown",
   "metadata": {},
   "source": [
    "### 2.1 Data Cleaning"
   ]
  },
  {
   "cell_type": "code",
   "execution_count": 10,
   "metadata": {
    "execution": {
     "iopub.execute_input": "2022-09-15T05:59:57.953119Z",
     "iopub.status.busy": "2022-09-15T05:59:57.95276Z",
     "iopub.status.idle": "2022-09-15T05:59:57.962227Z",
     "shell.execute_reply": "2022-09-15T05:59:57.960754Z",
     "shell.execute_reply.started": "2022-09-15T05:59:57.953085Z"
    }
   },
   "outputs": [],
   "source": [
    "x_train = x_train.drop(['Unnamed: 0', 'UTC', 'CNT',\"PM1.0\", \"PM2.5\", \"NC2.5\"], axis=1)\n",
    "x_test = x_test.drop(['Unnamed: 0', 'UTC', 'CNT',\"PM1.0\", \"PM2.5\", \"NC2.5\"], axis=1)"
   ]
  },
  {
   "cell_type": "code",
   "execution_count": 11,
   "metadata": {
    "collapsed": true,
    "execution": {
     "iopub.execute_input": "2022-09-15T05:59:57.964263Z",
     "iopub.status.busy": "2022-09-15T05:59:57.963872Z",
     "iopub.status.idle": "2022-09-15T05:59:58.014871Z",
     "shell.execute_reply": "2022-09-15T05:59:58.013814Z",
     "shell.execute_reply.started": "2022-09-15T05:59:57.964205Z"
    }
   },
   "outputs": [
    {
     "data": {
      "text/plain": [
       "Index(['Temperature[C]', 'Humidity[%]', 'TVOC[ppb]', 'eCO2[ppm]', 'Raw H2',\n",
       "       'Raw Ethanol', 'Pressure[hPa]', 'NC0.5', 'NC1.0'],\n",
       "      dtype='object')"
      ]
     },
     "execution_count": 11,
     "metadata": {},
     "output_type": "execute_result"
    }
   ],
   "source": [
    "x_train.describe()\n",
    "x_train.columns"
   ]
  },
  {
   "cell_type": "markdown",
   "metadata": {},
   "source": [
    "### 2.2 Feature Scaling using StandardScaller"
   ]
  },
  {
   "cell_type": "code",
   "execution_count": 12,
   "metadata": {
    "collapsed": true,
    "execution": {
     "iopub.execute_input": "2022-09-15T05:59:58.018933Z",
     "iopub.status.busy": "2022-09-15T05:59:58.018583Z",
     "iopub.status.idle": "2022-09-15T05:59:58.090014Z",
     "shell.execute_reply": "2022-09-15T05:59:58.088694Z",
     "shell.execute_reply.started": "2022-09-15T05:59:58.0189Z"
    }
   },
   "outputs": [
    {
     "data": {
      "text/html": [
       "<div>\n",
       "<style scoped>\n",
       "    .dataframe tbody tr th:only-of-type {\n",
       "        vertical-align: middle;\n",
       "    }\n",
       "\n",
       "    .dataframe tbody tr th {\n",
       "        vertical-align: top;\n",
       "    }\n",
       "\n",
       "    .dataframe thead th {\n",
       "        text-align: right;\n",
       "    }\n",
       "</style>\n",
       "<table border=\"1\" class=\"dataframe\">\n",
       "  <thead>\n",
       "    <tr style=\"text-align: right;\">\n",
       "      <th></th>\n",
       "      <th>Temperature[C]</th>\n",
       "      <th>Humidity[%]</th>\n",
       "      <th>TVOC[ppb]</th>\n",
       "      <th>eCO2[ppm]</th>\n",
       "      <th>Raw H2</th>\n",
       "      <th>Raw Ethanol</th>\n",
       "      <th>Pressure[hPa]</th>\n",
       "      <th>NC0.5</th>\n",
       "      <th>NC1.0</th>\n",
       "    </tr>\n",
       "  </thead>\n",
       "  <tbody>\n",
       "    <tr>\n",
       "      <th>count</th>\n",
       "      <td>5.010400e+04</td>\n",
       "      <td>5.010400e+04</td>\n",
       "      <td>5.010400e+04</td>\n",
       "      <td>5.010400e+04</td>\n",
       "      <td>5.010400e+04</td>\n",
       "      <td>5.010400e+04</td>\n",
       "      <td>5.010400e+04</td>\n",
       "      <td>5.010400e+04</td>\n",
       "      <td>5.010400e+04</td>\n",
       "    </tr>\n",
       "    <tr>\n",
       "      <th>mean</th>\n",
       "      <td>7.966599e-17</td>\n",
       "      <td>2.362571e-16</td>\n",
       "      <td>1.329635e-16</td>\n",
       "      <td>1.587836e-16</td>\n",
       "      <td>-5.992033e-16</td>\n",
       "      <td>-2.857016e-15</td>\n",
       "      <td>3.548850e-14</td>\n",
       "      <td>1.220428e-17</td>\n",
       "      <td>2.562339e-17</td>\n",
       "    </tr>\n",
       "    <tr>\n",
       "      <th>std</th>\n",
       "      <td>1.000010e+00</td>\n",
       "      <td>1.000010e+00</td>\n",
       "      <td>1.000010e+00</td>\n",
       "      <td>1.000010e+00</td>\n",
       "      <td>1.000010e+00</td>\n",
       "      <td>1.000010e+00</td>\n",
       "      <td>1.000010e+00</td>\n",
       "      <td>1.000010e+00</td>\n",
       "      <td>1.000010e+00</td>\n",
       "    </tr>\n",
       "    <tr>\n",
       "      <th>min</th>\n",
       "      <td>-2.641423e+00</td>\n",
       "      <td>-4.281348e+00</td>\n",
       "      <td>-2.485160e-01</td>\n",
       "      <td>-1.402998e-01</td>\n",
       "      <td>-8.403246e+00</td>\n",
       "      <td>-7.300395e+00</td>\n",
       "      <td>-5.887417e+00</td>\n",
       "      <td>-1.145881e-01</td>\n",
       "      <td>-9.076504e-02</td>\n",
       "    </tr>\n",
       "    <tr>\n",
       "      <th>25%</th>\n",
       "      <td>-3.457470e-01</td>\n",
       "      <td>-1.158733e-01</td>\n",
       "      <td>-2.319224e-01</td>\n",
       "      <td>-1.402998e-01</td>\n",
       "      <td>-4.176773e-01</td>\n",
       "      <td>-5.272137e-01</td>\n",
       "      <td>5.215788e-02</td>\n",
       "      <td>-1.124939e-01</td>\n",
       "      <td>-9.015125e-02</td>\n",
       "    </tr>\n",
       "    <tr>\n",
       "      <th>50%</th>\n",
       "      <td>2.905531e-01</td>\n",
       "      <td>1.807710e-01</td>\n",
       "      <td>-1.221991e-01</td>\n",
       "      <td>-1.402998e-01</td>\n",
       "      <td>-7.047871e-02</td>\n",
       "      <td>-4.186586e-01</td>\n",
       "      <td>1.407066e-01</td>\n",
       "      <td>-1.116463e-01</td>\n",
       "      <td>-8.990538e-02</td>\n",
       "    </tr>\n",
       "    <tr>\n",
       "      <th>75%</th>\n",
       "      <td>6.583905e-01</td>\n",
       "      <td>5.306301e-01</td>\n",
       "      <td>-9.557219e-02</td>\n",
       "      <td>-1.201050e-01</td>\n",
       "      <td>6.128378e-01</td>\n",
       "      <td>5.307875e-01</td>\n",
       "      <td>5.940457e-01</td>\n",
       "      <td>-1.111836e-01</td>\n",
       "      <td>-8.977051e-02</td>\n",
       "    </tr>\n",
       "    <tr>\n",
       "      <th>max</th>\n",
       "      <td>3.063781e+00</td>\n",
       "      <td>3.017007e+00</td>\n",
       "      <td>7.469421e+00</td>\n",
       "      <td>3.153365e+01</td>\n",
       "      <td>3.176198e+00</td>\n",
       "      <td>2.721216e+00</td>\n",
       "      <td>9.308336e-01</td>\n",
       "      <td>1.440121e+01</td>\n",
       "      <td>2.286658e+01</td>\n",
       "    </tr>\n",
       "  </tbody>\n",
       "</table>\n",
       "</div>"
      ],
      "text/plain": [
       "       Temperature[C]   Humidity[%]     TVOC[ppb]     eCO2[ppm]        Raw H2  \\\n",
       "count    5.010400e+04  5.010400e+04  5.010400e+04  5.010400e+04  5.010400e+04   \n",
       "mean     7.966599e-17  2.362571e-16  1.329635e-16  1.587836e-16 -5.992033e-16   \n",
       "std      1.000010e+00  1.000010e+00  1.000010e+00  1.000010e+00  1.000010e+00   \n",
       "min     -2.641423e+00 -4.281348e+00 -2.485160e-01 -1.402998e-01 -8.403246e+00   \n",
       "25%     -3.457470e-01 -1.158733e-01 -2.319224e-01 -1.402998e-01 -4.176773e-01   \n",
       "50%      2.905531e-01  1.807710e-01 -1.221991e-01 -1.402998e-01 -7.047871e-02   \n",
       "75%      6.583905e-01  5.306301e-01 -9.557219e-02 -1.201050e-01  6.128378e-01   \n",
       "max      3.063781e+00  3.017007e+00  7.469421e+00  3.153365e+01  3.176198e+00   \n",
       "\n",
       "        Raw Ethanol  Pressure[hPa]         NC0.5         NC1.0  \n",
       "count  5.010400e+04   5.010400e+04  5.010400e+04  5.010400e+04  \n",
       "mean  -2.857016e-15   3.548850e-14  1.220428e-17  2.562339e-17  \n",
       "std    1.000010e+00   1.000010e+00  1.000010e+00  1.000010e+00  \n",
       "min   -7.300395e+00  -5.887417e+00 -1.145881e-01 -9.076504e-02  \n",
       "25%   -5.272137e-01   5.215788e-02 -1.124939e-01 -9.015125e-02  \n",
       "50%   -4.186586e-01   1.407066e-01 -1.116463e-01 -8.990538e-02  \n",
       "75%    5.307875e-01   5.940457e-01 -1.111836e-01 -8.977051e-02  \n",
       "max    2.721216e+00   9.308336e-01  1.440121e+01  2.286658e+01  "
      ]
     },
     "execution_count": 12,
     "metadata": {},
     "output_type": "execute_result"
    }
   ],
   "source": [
    "from sklearn.preprocessing import StandardScaler\n",
    "scaler = StandardScaler()\n",
    "model = scaler.fit(x_train)\n",
    "scaled_data = model.transform(x_train)\n",
    "x_train_tr = pd.DataFrame(scaled_data)\n",
    "x_train_tr.columns = ['Temperature[C]', 'Humidity[%]', 'TVOC[ppb]', 'eCO2[ppm]', 'Raw H2',\n",
    "       'Raw Ethanol', 'Pressure[hPa]', 'NC0.5', 'NC1.0']\n",
    "x_train_tr.describe()"
   ]
  },
  {
   "cell_type": "code",
   "execution_count": 13,
   "metadata": {
    "collapsed": true,
    "execution": {
     "iopub.execute_input": "2022-09-15T05:59:58.092044Z",
     "iopub.status.busy": "2022-09-15T05:59:58.091653Z",
     "iopub.status.idle": "2022-09-15T05:59:58.143034Z",
     "shell.execute_reply": "2022-09-15T05:59:58.141811Z",
     "shell.execute_reply.started": "2022-09-15T05:59:58.092011Z"
    }
   },
   "outputs": [
    {
     "data": {
      "text/html": [
       "<div>\n",
       "<style scoped>\n",
       "    .dataframe tbody tr th:only-of-type {\n",
       "        vertical-align: middle;\n",
       "    }\n",
       "\n",
       "    .dataframe tbody tr th {\n",
       "        vertical-align: top;\n",
       "    }\n",
       "\n",
       "    .dataframe thead th {\n",
       "        text-align: right;\n",
       "    }\n",
       "</style>\n",
       "<table border=\"1\" class=\"dataframe\">\n",
       "  <thead>\n",
       "    <tr style=\"text-align: right;\">\n",
       "      <th></th>\n",
       "      <th>Temperature[C]</th>\n",
       "      <th>Humidity[%]</th>\n",
       "      <th>TVOC[ppb]</th>\n",
       "      <th>eCO2[ppm]</th>\n",
       "      <th>Raw H2</th>\n",
       "      <th>Raw Ethanol</th>\n",
       "      <th>Pressure[hPa]</th>\n",
       "      <th>NC0.5</th>\n",
       "      <th>NC1.0</th>\n",
       "    </tr>\n",
       "  </thead>\n",
       "  <tbody>\n",
       "    <tr>\n",
       "      <th>count</th>\n",
       "      <td>1.252600e+04</td>\n",
       "      <td>1.252600e+04</td>\n",
       "      <td>1.252600e+04</td>\n",
       "      <td>1.252600e+04</td>\n",
       "      <td>1.252600e+04</td>\n",
       "      <td>1.252600e+04</td>\n",
       "      <td>1.252600e+04</td>\n",
       "      <td>1.252600e+04</td>\n",
       "      <td>1.252600e+04</td>\n",
       "    </tr>\n",
       "    <tr>\n",
       "      <th>mean</th>\n",
       "      <td>1.948253e-16</td>\n",
       "      <td>4.909351e-16</td>\n",
       "      <td>-3.711749e-17</td>\n",
       "      <td>5.165670e-16</td>\n",
       "      <td>7.065739e-16</td>\n",
       "      <td>1.094225e-15</td>\n",
       "      <td>-4.430753e-14</td>\n",
       "      <td>-2.089313e-17</td>\n",
       "      <td>3.534149e-17</td>\n",
       "    </tr>\n",
       "    <tr>\n",
       "      <th>std</th>\n",
       "      <td>1.000040e+00</td>\n",
       "      <td>1.000040e+00</td>\n",
       "      <td>1.000040e+00</td>\n",
       "      <td>1.000040e+00</td>\n",
       "      <td>1.000040e+00</td>\n",
       "      <td>1.000040e+00</td>\n",
       "      <td>1.000040e+00</td>\n",
       "      <td>1.000040e+00</td>\n",
       "      <td>1.000040e+00</td>\n",
       "    </tr>\n",
       "    <tr>\n",
       "      <th>min</th>\n",
       "      <td>-2.659443e+00</td>\n",
       "      <td>-4.189821e+00</td>\n",
       "      <td>-2.490576e-01</td>\n",
       "      <td>-1.470891e-01</td>\n",
       "      <td>-8.136270e+00</td>\n",
       "      <td>-7.200485e+00</td>\n",
       "      <td>-5.663072e+00</td>\n",
       "      <td>-1.176935e-01</td>\n",
       "      <td>-9.761203e-02</td>\n",
       "    </tr>\n",
       "    <tr>\n",
       "      <th>25%</th>\n",
       "      <td>-3.491881e-01</td>\n",
       "      <td>-1.049146e-01</td>\n",
       "      <td>-2.325990e-01</td>\n",
       "      <td>-1.470891e-01</td>\n",
       "      <td>-3.901512e-01</td>\n",
       "      <td>-5.119713e-01</td>\n",
       "      <td>6.280846e-02</td>\n",
       "      <td>-1.157249e-01</td>\n",
       "      <td>-9.693976e-02</td>\n",
       "    </tr>\n",
       "    <tr>\n",
       "      <th>50%</th>\n",
       "      <td>2.839896e-01</td>\n",
       "      <td>1.840856e-01</td>\n",
       "      <td>-1.263089e-01</td>\n",
       "      <td>-1.470891e-01</td>\n",
       "      <td>-5.710037e-02</td>\n",
       "      <td>-4.014979e-01</td>\n",
       "      <td>1.445234e-01</td>\n",
       "      <td>-1.148672e-01</td>\n",
       "      <td>-9.665338e-02</td>\n",
       "    </tr>\n",
       "    <tr>\n",
       "      <th>75%</th>\n",
       "      <td>6.507294e-01</td>\n",
       "      <td>5.317194e-01</td>\n",
       "      <td>-9.942232e-02</td>\n",
       "      <td>-1.282098e-01</td>\n",
       "      <td>6.018390e-01</td>\n",
       "      <td>5.310275e-01</td>\n",
       "      <td>5.893954e-01</td>\n",
       "      <td>-1.144064e-01</td>\n",
       "      <td>-9.649773e-02</td>\n",
       "    </tr>\n",
       "    <tr>\n",
       "      <th>max</th>\n",
       "      <td>3.051981e+00</td>\n",
       "      <td>2.956264e+00</td>\n",
       "      <td>7.289243e+00</td>\n",
       "      <td>2.965955e+01</td>\n",
       "      <td>3.083605e+00</td>\n",
       "      <td>2.685259e+00</td>\n",
       "      <td>9.098710e-01</td>\n",
       "      <td>1.389438e+01</td>\n",
       "      <td>2.526527e+01</td>\n",
       "    </tr>\n",
       "  </tbody>\n",
       "</table>\n",
       "</div>"
      ],
      "text/plain": [
       "       Temperature[C]   Humidity[%]     TVOC[ppb]     eCO2[ppm]        Raw H2  \\\n",
       "count    1.252600e+04  1.252600e+04  1.252600e+04  1.252600e+04  1.252600e+04   \n",
       "mean     1.948253e-16  4.909351e-16 -3.711749e-17  5.165670e-16  7.065739e-16   \n",
       "std      1.000040e+00  1.000040e+00  1.000040e+00  1.000040e+00  1.000040e+00   \n",
       "min     -2.659443e+00 -4.189821e+00 -2.490576e-01 -1.470891e-01 -8.136270e+00   \n",
       "25%     -3.491881e-01 -1.049146e-01 -2.325990e-01 -1.470891e-01 -3.901512e-01   \n",
       "50%      2.839896e-01  1.840856e-01 -1.263089e-01 -1.470891e-01 -5.710037e-02   \n",
       "75%      6.507294e-01  5.317194e-01 -9.942232e-02 -1.282098e-01  6.018390e-01   \n",
       "max      3.051981e+00  2.956264e+00  7.289243e+00  2.965955e+01  3.083605e+00   \n",
       "\n",
       "        Raw Ethanol  Pressure[hPa]         NC0.5         NC1.0  \n",
       "count  1.252600e+04   1.252600e+04  1.252600e+04  1.252600e+04  \n",
       "mean   1.094225e-15  -4.430753e-14 -2.089313e-17  3.534149e-17  \n",
       "std    1.000040e+00   1.000040e+00  1.000040e+00  1.000040e+00  \n",
       "min   -7.200485e+00  -5.663072e+00 -1.176935e-01 -9.761203e-02  \n",
       "25%   -5.119713e-01   6.280846e-02 -1.157249e-01 -9.693976e-02  \n",
       "50%   -4.014979e-01   1.445234e-01 -1.148672e-01 -9.665338e-02  \n",
       "75%    5.310275e-01   5.893954e-01 -1.144064e-01 -9.649773e-02  \n",
       "max    2.685259e+00   9.098710e-01  1.389438e+01  2.526527e+01  "
      ]
     },
     "execution_count": 13,
     "metadata": {},
     "output_type": "execute_result"
    }
   ],
   "source": [
    "from sklearn.preprocessing import StandardScaler\n",
    "scaler = StandardScaler()\n",
    "model = scaler.fit(x_test)\n",
    "scaled_data = model.transform(x_test)\n",
    "x_test_tr = pd.DataFrame(scaled_data)\n",
    "x_test_tr.columns = ['Temperature[C]', 'Humidity[%]', 'TVOC[ppb]', 'eCO2[ppm]', 'Raw H2',\n",
    "       'Raw Ethanol', 'Pressure[hPa]', 'NC0.5', 'NC1.0']\n",
    "x_test_tr.describe()"
   ]
  },
  {
   "cell_type": "markdown",
   "metadata": {},
   "source": [
    "# 3. Model Building"
   ]
  },
  {
   "cell_type": "markdown",
   "metadata": {},
   "source": [
    "### 3.1. Build different Classification models and checking the performance for each"
   ]
  },
  {
   "cell_type": "code",
   "execution_count": 14,
   "metadata": {
    "collapsed": true,
    "execution": {
     "iopub.execute_input": "2022-09-15T05:59:58.144778Z",
     "iopub.status.busy": "2022-09-15T05:59:58.144373Z",
     "iopub.status.idle": "2022-09-15T05:59:58.42246Z",
     "shell.execute_reply": "2022-09-15T05:59:58.421175Z",
     "shell.execute_reply.started": "2022-09-15T05:59:58.144735Z"
    }
   },
   "outputs": [
    {
     "name": "stdout",
     "output_type": "stream",
     "text": [
      "Accuracy of Logistic Regression Model ---> 0.8951780296982277\n"
     ]
    }
   ],
   "source": [
    "from sklearn.linear_model import LogisticRegression\n",
    "model = LogisticRegression()\n",
    "model.fit(x_train_tr, y_train)\n",
    "lr_accuracy = model.score(x_test_tr, y_test)\n",
    "print(f\"Accuracy of Logistic Regression Model ---> {lr_accuracy}\")\n",
    "lr_predict = model.predict(x_test_tr)"
   ]
  },
  {
   "cell_type": "code",
   "execution_count": 15,
   "metadata": {
    "collapsed": true,
    "execution": {
     "iopub.execute_input": "2022-09-15T05:59:58.425047Z",
     "iopub.status.busy": "2022-09-15T05:59:58.42423Z",
     "iopub.status.idle": "2022-09-15T05:59:58.680766Z",
     "shell.execute_reply": "2022-09-15T05:59:58.679473Z",
     "shell.execute_reply.started": "2022-09-15T05:59:58.424997Z"
    }
   },
   "outputs": [
    {
     "name": "stdout",
     "output_type": "stream",
     "text": [
      "Accuracy of Decision Tree Model ---> 0.9330991537601788\n"
     ]
    }
   ],
   "source": [
    "from sklearn.tree import DecisionTreeClassifier \n",
    "model = DecisionTreeClassifier()\n",
    "model.fit(x_train_tr, y_train)\n",
    "dt_accuracy = model.score(x_test_tr, y_test)\n",
    "print(f\"Accuracy of Decision Tree Model ---> {dt_accuracy}\")\n",
    "dt_predict = model.predict(x_test_tr)"
   ]
  },
  {
   "cell_type": "code",
   "execution_count": 16,
   "metadata": {
    "collapsed": true,
    "execution": {
     "iopub.execute_input": "2022-09-15T05:59:58.683055Z",
     "iopub.status.busy": "2022-09-15T05:59:58.682224Z",
     "iopub.status.idle": "2022-09-15T06:00:04.835811Z",
     "shell.execute_reply": "2022-09-15T06:00:04.834669Z",
     "shell.execute_reply.started": "2022-09-15T05:59:58.683018Z"
    }
   },
   "outputs": [
    {
     "name": "stdout",
     "output_type": "stream",
     "text": [
      "Accuracy of Random Forest Model ---> 0.9498642822928309\n"
     ]
    }
   ],
   "source": [
    "from sklearn.ensemble import RandomForestClassifier  \n",
    "model = RandomForestClassifier()\n",
    "model.fit(x_train_tr, y_train)\n",
    "rf_accuracy = model.score(x_test_tr, y_test)\n",
    "print(f\"Accuracy of Random Forest Model ---> {rf_accuracy}\")\n",
    "rf_predict = model.predict(x_test_tr)"
   ]
  },
  {
   "cell_type": "code",
   "execution_count": 17,
   "metadata": {
    "collapsed": true,
    "execution": {
     "iopub.execute_input": "2022-09-15T06:00:04.837439Z",
     "iopub.status.busy": "2022-09-15T06:00:04.837108Z",
     "iopub.status.idle": "2022-09-15T06:00:07.879465Z",
     "shell.execute_reply": "2022-09-15T06:00:07.87792Z",
     "shell.execute_reply.started": "2022-09-15T06:00:04.83741Z"
    }
   },
   "outputs": [
    {
     "name": "stdout",
     "output_type": "stream",
     "text": [
      "Accuracy of AdaBoost Model ---> 0.9314226409069136\n"
     ]
    }
   ],
   "source": [
    "from sklearn.ensemble import AdaBoostClassifier\n",
    "model = AdaBoostClassifier()\n",
    "model.fit(x_train_tr, y_train)\n",
    "ada_accuracy = model.score(x_test_tr, y_test)\n",
    "print(f\"Accuracy of AdaBoost Model ---> {ada_accuracy}\")\n",
    "ada_predict = model.predict(x_test_tr)"
   ]
  },
  {
   "cell_type": "markdown",
   "metadata": {},
   "source": [
    "# 4. Further Performance Analysis"
   ]
  },
  {
   "cell_type": "markdown",
   "metadata": {},
   "source": [
    "### 4.1. Confusion Matrix"
   ]
  },
  {
   "cell_type": "code",
   "execution_count": 18,
   "metadata": {
    "execution": {
     "iopub.execute_input": "2022-09-15T06:00:07.881328Z",
     "iopub.status.busy": "2022-09-15T06:00:07.880952Z",
     "iopub.status.idle": "2022-09-15T06:00:07.902619Z",
     "shell.execute_reply": "2022-09-15T06:00:07.901782Z",
     "shell.execute_reply.started": "2022-09-15T06:00:07.881293Z"
    }
   },
   "outputs": [
    {
     "name": "stdout",
     "output_type": "stream",
     "text": [
      "CM for LR ---> [[2743  848]\n",
      " [ 465 8470]]\n",
      "CM for LR ---> [[3591    0]\n",
      " [ 838 8097]]\n",
      "CM for LR ---> [[3589    2]\n",
      " [ 626 8309]]\n",
      "CM for LR ---> [[3583    8]\n",
      " [ 851 8084]]\n"
     ]
    }
   ],
   "source": [
    "lr_cnf_matrix = confusion_matrix(y_test, lr_predict)\n",
    "dt_cnf_matrix = confusion_matrix(y_test, dt_predict)\n",
    "rf_cnf_matrix = confusion_matrix(y_test, rf_predict)\n",
    "ada_cnf_matrix = confusion_matrix(y_test, ada_predict)\n",
    "print(f\"CM for LR ---> {lr_cnf_matrix}\")\n",
    "print(f\"CM for LR ---> {dt_cnf_matrix}\")\n",
    "print(f\"CM for LR ---> {rf_cnf_matrix}\")\n",
    "print(f\"CM for LR ---> {ada_cnf_matrix}\")"
   ]
  },
  {
   "cell_type": "code",
   "execution_count": 19,
   "metadata": {
    "collapsed": true,
    "execution": {
     "iopub.execute_input": "2022-09-15T06:00:07.905026Z",
     "iopub.status.busy": "2022-09-15T06:00:07.9043Z",
     "iopub.status.idle": "2022-09-15T06:00:08.412823Z",
     "shell.execute_reply": "2022-09-15T06:00:08.411737Z",
     "shell.execute_reply.started": "2022-09-15T06:00:07.90498Z"
    }
   },
   "outputs": [
    {
     "name": "stdout",
     "output_type": "stream",
     "text": [
      "CM for Logistic Regression\n",
      "Confusion matrix, without normalization\n",
      "[[2743  848]\n",
      " [ 465 8470]]\n",
      "Normalized confusion matrix\n",
      "[[0.76385408 0.23614592]\n",
      " [0.05204253 0.94795747]]\n"
     ]
    },
    {
     "name": "stderr",
     "output_type": "stream",
     "text": [
      "C:\\Users\\18040\\AppData\\Local\\Temp\\ipykernel_14052\\3381567182.py:21: MatplotlibDeprecationWarning: Auto-removal of grids by pcolor() and pcolormesh() is deprecated since 3.5 and will be removed two minor releases later; please call grid(False) first.\n",
      "  plt.colorbar()\n"
     ]
    },
    {
     "data": {
      "image/png": "[encoded data removed]",
      "text/plain": [
       "<Figure size 432x288 with 2 Axes>"
      ]
     },
     "metadata": {
      "needs_background": "light"
     },
     "output_type": "display_data"
    },
    {
     "data": {
      "image/png": "[encoded data removed]",
      "text/plain": [
       "<Figure size 432x288 with 2 Axes>"
      ]
     },
     "metadata": {
      "needs_background": "light"
     },
     "output_type": "display_data"
    }
   ],
   "source": [
    "import itertools\n",
    "\n",
    "def plot_confusion_matrix(cm, classes,\n",
    "                          normalize=False,\n",
    "                          title='Confusion matrix',\n",
    "                          cmap=plt.cm.Blues):\n",
    "    \"\"\"\n",
    "    This function prints and plots the confusion matrix.\n",
    "    Normalization can be applied by setting `normalize=True`.\n",
    "    \"\"\"\n",
    "    if normalize:\n",
    "        cm = cm.astype('float') / cm.sum(axis=1)[:, np.newaxis]\n",
    "        print(\"Normalized confusion matrix\")\n",
    "    else:\n",
    "        print('Confusion matrix, without normalization')\n",
    "\n",
    "    print(cm)\n",
    "\n",
    "    plt.imshow(cm, interpolation='nearest', cmap=cmap)\n",
    "    plt.title(title)\n",
    "    plt.colorbar()\n",
    "    tick_marks = np.arange(len(classes))\n",
    "    plt.xticks(tick_marks, classes, rotation=45)\n",
    "    plt.yticks(tick_marks, classes)\n",
    "    fmt = '.2f' if normalize else 'd'\n",
    "    thresh = cm.max() / 2.\n",
    "    for i, j in itertools.product(range(cm.shape[0]), range(cm.shape[1])):\n",
    "        plt.text(j, i, format(cm[i, j], fmt),\n",
    "                 horizontalalignment=\"center\",\n",
    "                 color=\"white\" if cm[i, j] > thresh else \"black\")\n",
    "\n",
    "    plt.ylabel('True label')\n",
    "    plt.xlabel('Predicted label')\n",
    "    plt.tight_layout()\n",
    "    \n",
    "print(\"CM for Logistic Regression\")\n",
    "plt.figure()\n",
    "plot_confusion_matrix(lr_cnf_matrix, classes= [0,1],\n",
    "                      title='Confusion matrix, without normalization')\n",
    "\n",
    "plt.figure()\n",
    "plot_confusion_matrix(lr_cnf_matrix, classes= [0,1], normalize=True,\n",
    "                      title='Normalized confusion matrix')\n",
    "\n",
    "plt.show()"
   ]
  },
  {
   "cell_type": "code",
   "execution_count": 20,
   "metadata": {
    "collapsed": true,
    "execution": {
     "iopub.execute_input": "2022-09-15T06:00:08.414762Z",
     "iopub.status.busy": "2022-09-15T06:00:08.414341Z",
     "iopub.status.idle": "2022-09-15T06:00:08.915653Z",
     "shell.execute_reply": "2022-09-15T06:00:08.914421Z",
     "shell.execute_reply.started": "2022-09-15T06:00:08.414706Z"
    }
   },
   "outputs": [
    {
     "name": "stdout",
     "output_type": "stream",
     "text": [
      "CM for Decision Tree\n",
      "Confusion matrix, without normalization\n",
      "[[3591    0]\n",
      " [ 838 8097]]\n",
      "Normalized confusion matrix\n",
      "[[1.         0.        ]\n",
      " [0.09378847 0.90621153]]\n"
     ]
    },
    {
     "name": "stderr",
     "output_type": "stream",
     "text": [
      "C:\\Users\\18040\\AppData\\Local\\Temp\\ipykernel_14052\\1019429077.py:21: MatplotlibDeprecationWarning: Auto-removal of grids by pcolor() and pcolormesh() is deprecated since 3.5 and will be removed two minor releases later; please call grid(False) first.\n",
      "  plt.colorbar()\n"
     ]
    },
    {
     "data": {
      "image/png": "[encoded data removed]",
      "text/plain": [
       "<Figure size 432x288 with 2 Axes>"
      ]
     },
     "metadata": {
      "needs_background": "light"
     },
     "output_type": "display_data"
    },
    {
     "data": {
      "image/png": "[encoded data removed]",
      "text/plain": [
       "<Figure size 432x288 with 2 Axes>"
      ]
     },
     "metadata": {
      "needs_background": "light"
     },
     "output_type": "display_data"
    }
   ],
   "source": [
    "import itertools\n",
    "\n",
    "def plot_confusion_matrix(cm, classes,\n",
    "                          normalize=False,\n",
    "                          title='Confusion matrix',\n",
    "                          cmap=plt.cm.Blues):\n",
    "    \"\"\"\n",
    "    This function prints and plots the confusion matrix.\n",
    "    Normalization can be applied by setting `normalize=True`.\n",
    "    \"\"\"\n",
    "    if normalize:\n",
    "        cm = cm.astype('float') / cm.sum(axis=1)[:, np.newaxis]\n",
    "        print(\"Normalized confusion matrix\")\n",
    "    else:\n",
    "        print('Confusion matrix, without normalization')\n",
    "\n",
    "    print(cm)\n",
    "\n",
    "    plt.imshow(cm, interpolation='nearest', cmap=cmap)\n",
    "    plt.title(title)\n",
    "    plt.colorbar()\n",
    "    tick_marks = np.arange(len(classes))\n",
    "    plt.xticks(tick_marks, classes, rotation=45)\n",
    "    plt.yticks(tick_marks, classes)\n",
    "    fmt = '.2f' if normalize else 'd'\n",
    "    thresh = cm.max() / 2.\n",
    "    for i, j in itertools.product(range(cm.shape[0]), range(cm.shape[1])):\n",
    "        plt.text(j, i, format(cm[i, j], fmt),\n",
    "                 horizontalalignment=\"center\",\n",
    "                 color=\"white\" if cm[i, j] > thresh else \"black\")\n",
    "\n",
    "    plt.ylabel('True label')\n",
    "    plt.xlabel('Predicted label')\n",
    "    plt.tight_layout()\n",
    "    \n",
    "print(\"CM for Decision Tree\")\n",
    "plt.figure()\n",
    "plot_confusion_matrix(dt_cnf_matrix, classes= [0,1],\n",
    "                      title='Confusion matrix, without normalization')\n",
    "\n",
    "plt.figure()\n",
    "plot_confusion_matrix(dt_cnf_matrix, classes= [0,1], normalize=True,\n",
    "                      title='Normalized confusion matrix')\n",
    "\n",
    "plt.show()"
   ]
  },
  {
   "cell_type": "code",
   "execution_count": 21,
   "metadata": {
    "collapsed": true,
    "execution": {
     "iopub.execute_input": "2022-09-15T06:00:08.917523Z",
     "iopub.status.busy": "2022-09-15T06:00:08.917195Z",
     "iopub.status.idle": "2022-09-15T06:00:09.403483Z",
     "shell.execute_reply": "2022-09-15T06:00:09.402622Z",
     "shell.execute_reply.started": "2022-09-15T06:00:08.917493Z"
    },
    "jupyter": {
     "source_hidden": true
    }
   },
   "outputs": [
    {
     "name": "stdout",
     "output_type": "stream",
     "text": [
      "CM for Random Forest\n",
      "Confusion matrix, without normalization\n",
      "[[3589    2]\n",
      " [ 626 8309]]\n",
      "Normalized confusion matrix\n",
      "[[9.99443052e-01 5.56947925e-04]\n",
      " [7.00615557e-02 9.29938444e-01]]\n"
     ]
    },
    {
     "name": "stderr",
     "output_type": "stream",
     "text": [
      "C:\\Users\\18040\\AppData\\Local\\Temp\\ipykernel_14052\\759481309.py:21: MatplotlibDeprecationWarning: Auto-removal of grids by pcolor() and pcolormesh() is deprecated since 3.5 and will be removed two minor releases later; please call grid(False) first.\n",
      "  plt.colorbar()\n"
     ]
    },
    {
     "data": {
      "image/png": "[encoded data removed]",
      "text/plain": [
       "<Figure size 432x288 with 2 Axes>"
      ]
     },
     "metadata": {
      "needs_background": "light"
     },
     "output_type": "display_data"
    },
    {
     "data": {
      "image/png": "[encoded data removed]",
      "text/plain": [
       "<Figure size 432x288 with 2 Axes>"
      ]
     },
     "metadata": {
      "needs_background": "light"
     },
     "output_type": "display_data"
    }
   ],
   "source": [
    "import itertools\n",
    "\n",
    "def plot_confusion_matrix(cm, classes,\n",
    "                          normalize=False,\n",
    "                          title='Confusion matrix',\n",
    "                          cmap=plt.cm.Blues):\n",
    "    \"\"\"\n",
    "    This function prints and plots the confusion matrix.\n",
    "    Normalization can be applied by setting `normalize=True`.\n",
    "    \"\"\"\n",
    "    if normalize:\n",
    "        cm = cm.astype('float') / cm.sum(axis=1)[:, np.newaxis]\n",
    "        print(\"Normalized confusion matrix\")\n",
    "    else:\n",
    "        print('Confusion matrix, without normalization')\n",
    "\n",
    "    print(cm)\n",
    "\n",
    "    plt.imshow(cm, interpolation='nearest', cmap=cmap)\n",
    "    plt.title(title)\n",
    "    plt.colorbar()\n",
    "    tick_marks = np.arange(len(classes))\n",
    "    plt.xticks(tick_marks, classes, rotation=45)\n",
    "    plt.yticks(tick_marks, classes)\n",
    "    fmt = '.2f' if normalize else 'd'\n",
    "    thresh = cm.max() / 2.\n",
    "    for i, j in itertools.product(range(cm.shape[0]), range(cm.shape[1])):\n",
    "        plt.text(j, i, format(cm[i, j], fmt),\n",
    "                 horizontalalignment=\"center\",\n",
    "                 color=\"white\" if cm[i, j] > thresh else \"black\")\n",
    "\n",
    "    plt.ylabel('True label')\n",
    "    plt.xlabel('Predicted label')\n",
    "    plt.tight_layout()\n",
    "    \n",
    "print(\"CM for Random Forest\")\n",
    "plt.figure()\n",
    "plot_confusion_matrix(rf_cnf_matrix, classes= [0,1],\n",
    "                      title='Confusion matrix, without normalization')\n",
    "\n",
    "plt.figure()\n",
    "plot_confusion_matrix(rf_cnf_matrix, classes= [0,1], normalize=True,\n",
    "                      title='Normalized confusion matrix')\n",
    "\n",
    "plt.show()"
   ]
  },
  {
   "cell_type": "code",
   "execution_count": 22,
   "metadata": {
    "collapsed": true,
    "execution": {
     "iopub.execute_input": "2022-09-15T06:00:09.405257Z",
     "iopub.status.busy": "2022-09-15T06:00:09.404771Z",
     "iopub.status.idle": "2022-09-15T06:00:09.906783Z",
     "shell.execute_reply": "2022-09-15T06:00:09.905614Z",
     "shell.execute_reply.started": "2022-09-15T06:00:09.405226Z"
    },
    "jupyter": {
     "source_hidden": true
    }
   },
   "outputs": [
    {
     "name": "stdout",
     "output_type": "stream",
     "text": [
      "CM for Ada Boost\n",
      "Confusion matrix, without normalization\n",
      "[[3583    8]\n",
      " [ 851 8084]]\n",
      "Normalized confusion matrix\n",
      "[[0.99777221 0.00222779]\n",
      " [0.09524342 0.90475658]]\n"
     ]
    },
    {
     "name": "stderr",
     "output_type": "stream",
     "text": [
      "C:\\Users\\18040\\AppData\\Local\\Temp\\ipykernel_14052\\4111192190.py:21: MatplotlibDeprecationWarning: Auto-removal of grids by pcolor() and pcolormesh() is deprecated since 3.5 and will be removed two minor releases later; please call grid(False) first.\n",
      "  plt.colorbar()\n"
     ]
    },
    {
     "data": {
      "image/png": "[encoded data removed]",
      "text/plain": [
       "<Figure size 432x288 with 2 Axes>"
      ]
     },
     "metadata": {
      "needs_background": "light"
     },
     "output_type": "display_data"
    },
    {
     "data": {
      "image/png": "[encoded data removed]",
      "text/plain": [
       "<Figure size 432x288 with 2 Axes>"
      ]
     },
     "metadata": {
      "needs_background": "light"
     },
     "output_type": "display_data"
    }
   ],
   "source": [
    "import itertools\n",
    "\n",
    "def plot_confusion_matrix(cm, classes,\n",
    "                          normalize=False,\n",
    "                          title='Confusion matrix',\n",
    "                          cmap=plt.cm.Blues):\n",
    "    \"\"\"\n",
    "    This function prints and plots the confusion matrix.\n",
    "    Normalization can be applied by setting `normalize=True`.\n",
    "    \"\"\"\n",
    "    if normalize:\n",
    "        cm = cm.astype('float') / cm.sum(axis=1)[:, np.newaxis]\n",
    "        print(\"Normalized confusion matrix\")\n",
    "    else:\n",
    "        print('Confusion matrix, without normalization')\n",
    "\n",
    "    print(cm)\n",
    "\n",
    "    plt.imshow(cm, interpolation='nearest', cmap=cmap)\n",
    "    plt.title(title)\n",
    "    plt.colorbar()\n",
    "    tick_marks = np.arange(len(classes))\n",
    "    plt.xticks(tick_marks, classes, rotation=45)\n",
    "    plt.yticks(tick_marks, classes)\n",
    "    fmt = '.2f' if normalize else 'd'\n",
    "    thresh = cm.max() / 2.\n",
    "    for i, j in itertools.product(range(cm.shape[0]), range(cm.shape[1])):\n",
    "        plt.text(j, i, format(cm[i, j], fmt),\n",
    "                 horizontalalignment=\"center\",\n",
    "                 color=\"white\" if cm[i, j] > thresh else \"black\")\n",
    "\n",
    "    plt.ylabel('True label')\n",
    "    plt.xlabel('Predicted label')\n",
    "    plt.tight_layout()\n",
    "    \n",
    "print(\"CM for Ada Boost\")\n",
    "plt.figure()\n",
    "plot_confusion_matrix(ada_cnf_matrix, classes= [0,1],\n",
    "                      title='Confusion matrix, without normalization')\n",
    "\n",
    "plt.figure()\n",
    "plot_confusion_matrix(ada_cnf_matrix, classes= [0,1], normalize=True,\n",
    "                      title='Normalized confusion matrix')\n",
    "\n",
    "plt.show()"
   ]
  },
  {
   "cell_type": "markdown",
   "metadata": {},
   "source": [
    "### 4.2. Precision and Recall"
   ]
  },
  {
   "cell_type": "code",
   "execution_count": 23,
   "metadata": {
    "collapsed": true,
    "execution": {
     "iopub.execute_input": "2022-09-15T06:00:09.908589Z",
     "iopub.status.busy": "2022-09-15T06:00:09.908174Z",
     "iopub.status.idle": "2022-09-15T06:00:09.941624Z",
     "shell.execute_reply": "2022-09-15T06:00:09.940409Z",
     "shell.execute_reply.started": "2022-09-15T06:00:09.908557Z"
    }
   },
   "outputs": [
    {
     "name": "stdout",
     "output_type": "stream",
     "text": [
      "Precision_Score for LR ---> 0.9089933462116334\n",
      "Precision_Score for DT --->1.0\n",
      "Precision_Score for RF --->0.9997593550715919\n",
      "Precision_Score for ADA --->0.9990113692535838\n"
     ]
    }
   ],
   "source": [
    "from sklearn.metrics import precision_score\n",
    "lr_precision = precision_score(y_test, lr_predict)\n",
    "dt_precision = precision_score(y_test, dt_predict)\n",
    "rf_precision = precision_score(y_test, rf_predict)\n",
    "ada_precision = precision_score(y_test, ada_predict)\n",
    "\n",
    "print(f\"Precision_Score for LR ---> {lr_precision}\")\n",
    "print(f\"Precision_Score for DT --->{dt_precision}\")\n",
    "print(f\"Precision_Score for RF --->{rf_precision}\")\n",
    "print(f\"Precision_Score for ADA --->{ada_precision}\")"
   ]
  },
  {
   "cell_type": "code",
   "execution_count": 24,
   "metadata": {
    "collapsed": true,
    "execution": {
     "iopub.execute_input": "2022-09-15T06:00:09.943861Z",
     "iopub.status.busy": "2022-09-15T06:00:09.943186Z",
     "iopub.status.idle": "2022-09-15T06:00:09.97783Z",
     "shell.execute_reply": "2022-09-15T06:00:09.976585Z",
     "shell.execute_reply.started": "2022-09-15T06:00:09.943813Z"
    }
   },
   "outputs": [
    {
     "name": "stdout",
     "output_type": "stream",
     "text": [
      "Recall_score for LR ---> 0.9479574706211528\n",
      "Recall_score for DT --->0.906211527700056\n",
      "Recall_score for RF --->0.9299384443200895\n",
      "Recall_score for ADA --->0.9047565752658087\n"
     ]
    }
   ],
   "source": [
    "from sklearn.metrics import recall_score \n",
    "lr_recall= recall_score(y_test, lr_predict)\n",
    "dt_recall= recall_score(y_test, dt_predict)\n",
    "rf_recall= recall_score(y_test, rf_predict)\n",
    "ada_recall = recall_score(y_test, ada_predict)\n",
    "# np.set_printoptions(precision=2)\n",
    "print(f\"Recall_score for LR ---> {lr_recall}\")\n",
    "print(f\"Recall_score for DT --->{dt_recall}\")\n",
    "print(f\"Recall_score for RF --->{rf_recall}\")\n",
    "print(f\"Recall_score for ADA --->{ada_recall}\")"
   ]
  },
  {
   "cell_type": "markdown",
   "metadata": {},
   "source": [
    "### 4.3. F1 Score"
   ]
  },
  {
   "cell_type": "code",
   "execution_count": 25,
   "metadata": {
    "execution": {
     "iopub.execute_input": "2022-09-15T06:00:09.980418Z",
     "iopub.status.busy": "2022-09-15T06:00:09.979196Z",
     "iopub.status.idle": "2022-09-15T06:00:10.014513Z",
     "shell.execute_reply": "2022-09-15T06:00:10.013438Z",
     "shell.execute_reply.started": "2022-09-15T06:00:09.980369Z"
    },
    "scrolled": false
   },
   "outputs": [
    {
     "name": "stdout",
     "output_type": "stream",
     "text": [
      "F1 Score for LR ---> 0.9280666191858873\n",
      "F1 Score for DT --->0.9507984969469234\n",
      "F1 Score for RF --->0.9635857590165836\n",
      "F1 Score for ADA --->0.9495507135725613\n"
     ]
    }
   ],
   "source": [
    "from sklearn.metrics import f1_score\n",
    "lr_f1_score = f1_score(y_test, lr_predict)\n",
    "dt_f1_score = f1_score(y_test, dt_predict)\n",
    "rf_f1_score = f1_score(y_test, rf_predict)\n",
    "ada_f1_score = f1_score(y_test, ada_predict)\n",
    "# np.set_printoptions(precision=2)\n",
    "print(f\"F1 Score for LR ---> {lr_f1_score}\")\n",
    "print(f\"F1 Score for DT --->{dt_f1_score}\")\n",
    "print(f\"F1 Score for RF --->{rf_f1_score}\")\n",
    "print(f\"F1 Score for ADA --->{ada_f1_score}\")"
   ]
  }
 ],
 "metadata": {
  "kernelspec": {
   "display_name": "Python 3 (ipykernel)",
   "language": "python",
   "name": "python3"
  },
  "language_info": {
   "codemirror_mode": {
    "name": "ipython",
    "version": 3
   },
   "file_extension": ".py",
   "mimetype": "text/x-python",
   "name": "python",
   "nbconvert_exporter": "python",
   "pygments_lexer": "ipython3",
   "version": "3.9.12"
  }
 },
 "nbformat": 4,
 "nbformat_minor": 4
}
